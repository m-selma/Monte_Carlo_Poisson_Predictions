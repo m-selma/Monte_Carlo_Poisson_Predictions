{
 "cells": [
  {
   "cell_type": "markdown",
   "id": "e454579c",
   "metadata": {},
   "source": [
    "# FIFA World Cup (2022) Monte Carlo Winner Prediction\n"
   ]
  },
  {
   "cell_type": "markdown",
   "id": "be718844",
   "metadata": {},
   "source": [
    "Aim: to build a predictive algorithm for the outcome of a soccer tournament, in this case applied to the 2022 FIFA World Cup through four major poles:\n",
    "1. Reliable data for each participating team and its players, on which to base our analysis --> the outcome of games for the past 50 years, as well as their context (friendly vs. FIFA World Cup), rosters, and goals scored. \n",
    "2. Building a method for the prediction of the number of goals scored and conceded for each team in any given scenario.\n",
    "3. Building a poisson regression model to predict the outcome of each game, based on the probabilities obtained from step 2. \n",
    "4. Deriving final predicted results for the entirety of the tournament."
   ]
  },
  {
   "cell_type": "markdown",
   "id": "7586edef",
   "metadata": {},
   "source": [
    "#### 1. Data Pre-Processing"
   ]
  },
  {
   "cell_type": "markdown",
   "id": "0d5c2bb6",
   "metadata": {},
   "source": [
    "The data was imported from Kaggle, where countries are ranked by their respective Soccer Power Index (SPI) ratings. This universally accepted ranking system was designed by ESPN to provide an objective and accurate depiction of a team's current overall skill level. Unlike other systems, such as FIFA rankings, SPI is proactive and predictive. It is intended to forecast which teams will be the most successful in the future, rather than rate the success of teams in the past, which is why this metric was considered audacious to use.\n",
    "\n",
    "Several factors are taken into account when computing a team's World Cup SPI rating. On the one hand, international match results yield match-based SPI ratings, which account for 75% of the weight of the World Cup SPI rating. On the other hand, the remaining 25% comes from the roster-based SPI rating, derived from both the World Cup roster and club team match results. \n",
    "\n",
    "The number of goals scored for each team was considered and adjusted based on the number of red cards and the time each goal was scored. The number of goals expected to be scored was also factored in, based on both shooting attempts made and non-shooting actions taken near the opposite team's goal."
   ]
  },
  {
   "cell_type": "code",
   "execution_count": 2,
   "id": "2d8f5c52",
   "metadata": {},
   "outputs": [
    {
     "name": "stdout",
     "output_type": "stream",
     "text": [
      "     rank                      name    confed   off   def    spi\n",
      "0       1                    Brazil  CONMEBOL  3.22  0.30  93.55\n",
      "1       2                     Spain      UEFA  2.80  0.39  89.51\n",
      "2       3                   Germany      UEFA  3.17  0.62  88.77\n",
      "3       4                  Portugal      UEFA  2.79  0.48  87.77\n",
      "4       5                    France      UEFA  2.77  0.48  87.71\n",
      "..    ...                       ...       ...   ...   ...    ...\n",
      "215   216               Timor-Leste       AFC  0.27  5.25   0.69\n",
      "216   217                     Macau       AFC  0.20  5.01   0.66\n",
      "217   218  Turks and Caicos Islands  CONCACAF  0.43  6.27   0.47\n",
      "218   219                     Samoa       OFC  0.20  5.78   0.34\n",
      "219   220                     Tonga       OFC  0.20  6.08   0.26\n",
      "\n",
      "[220 rows x 6 columns]\n"
     ]
    }
   ],
   "source": [
    "import pandas as pd\n",
    "import numpy as np\n",
    "fifa  = pd.read_csv('https://raw.githubusercontent.com/m-selma/Monte_Carlo_Poisson_Predictions/main/data/2022_spi_global_rankings.csv')\n",
    "print(fifa)"
   ]
  },
  {
   "cell_type": "markdown",
   "id": "0a0ee822",
   "metadata": {},
   "source": [
    "From there, the groups A to H were defined, each comprised of four teams that were qualified to participate in the 2022 FIFA World Cup, along with a list of all participating countries."
   ]
  },
  {
   "cell_type": "code",
   "execution_count": 3,
   "id": "c4ed2a16",
   "metadata": {},
   "outputs": [],
   "source": [
    "group_a = ['Qatar',\n",
    "           'Ecuador',\n",
    "           'Senegal',\n",
    "           'Netherlands']\n",
    "group_b =['England',\n",
    "          'Iran',\n",
    "          'USA',\n",
    "          'Wales']\n",
    "group_c =['Argentina',\n",
    "          'Saudi Arabia',\n",
    "          'Mexico',\n",
    "          'Poland' ]\n",
    "group_d =['France',\n",
    "          'Australia',\n",
    "          'Denmark',\n",
    "          'Tunisia' ]\n",
    "group_e =['Spain',\n",
    "          'Costa Rica',\n",
    "          'Germany',\n",
    "          'Japan']\n",
    "group_f =['Belgium',\n",
    "          'Canada',\n",
    "          'Morocco',\n",
    "          'Croatia']\n",
    "group_g =['Brazil',\n",
    "          'Serbia',\n",
    "          'Switzerland',\n",
    "          'Cameroon' ]\n",
    "group_h =['Portugal',\n",
    "          'Ghana',\n",
    "          'Uruguay',\n",
    "          'South Korea']\n",
    "\n",
    "group_list = [group_a, group_b, group_c, group_d, group_e, group_f, group_g, group_h]\n",
    "teams_to_groups = []\n",
    "for group in group_list:\n",
    "    teams_to_groups.append(group)\n",
    "flat_list = [item for sublist in teams_to_groups for item in sublist]"
   ]
  },
  {
   "cell_type": "markdown",
   "id": "faa34c35",
   "metadata": {},
   "source": [
    "#### 2. Goal/Score Prediction"
   ]
  },
  {
   "cell_type": "markdown",
   "id": "7d1db987",
   "metadata": {},
   "source": [
    "A predictive function was then defined, which matched each team in a group against every other team within the same group. In accordance with the World Cup rules, points were assigned as follows: 3 points for a win, 1 point for a tie, and 0 points for a loss. Each team initially began with 0 points, and after every match, the corresponding points were added to the team's total. Ultimately, only the two teams with the highest number of points from each group qualified for the next round."
   ]
  },
  {
   "cell_type": "code",
   "execution_count": 4,
   "id": "c61b8bdb",
   "metadata": {},
   "outputs": [],
   "source": [
    "def value_getter(item):\n",
    "    return item[1]\n",
    "\n",
    "def group_stage(group):\n",
    "\n",
    "    \"\"\"\n",
    "    teams in a group must all play eachother.\n",
    "    a win is worth 3 points\n",
    "    a tie is worth 1 point\n",
    "    loss is worth 0 points\n",
    "    \n",
    "    teams with the largest two scores advance into the elimintaion round.\n",
    "    \n",
    "    :param group: (group of 4 teams)\n",
    "    :return: two advancing teams\n",
    "    \"\"\"\n",
    "    \n",
    "    #initialize scores as zero in dict\n",
    "    group_scores = {}\n",
    "    for i in range(len(group_a)):\n",
    "        group_scores[group[i]] = 0\n",
    "\n",
    "    #head to head matches\n",
    "    #make a list of winning teams, ties are stored as tuples of teams\n",
    "\n",
    "    matches = [ PredictScore(group[0],group[1],elimination=False), PredictScore(group[0],group[2],elimination=False), PredictScore(group[0],group[3],elimination=False), PredictScore(group[1],group[2],elimination=False), PredictScore(group[1],group[3],elimination=False), PredictScore(group[2],group[3],elimination=False)]\n",
    "\n",
    "    #allocate points to teams\n",
    "    for match in matches:\n",
    "        if type(match) is tuple:\n",
    "            group_scores[match[0]] += 1\n",
    "            group_scores[match[1]] += 1\n",
    "        else:\n",
    "            group_scores[match] += 3\n",
    "\n",
    "    #find the two highest scores in the dictionary\n",
    "    winners = sorted(group_scores.items(), key=value_getter)[-2:]\n",
    "    first = winners[0][0]\n",
    "    second = winners[1][0]\n",
    "\n",
    "    #check for a tie and run a tie breaker in the event of a tie\n",
    "    return first, second"
   ]
  },
  {
   "cell_type": "markdown",
   "id": "c933b96d",
   "metadata": {},
   "source": [
    "In the real world, if two teams are tied in points, the team with the higher number of goals advances. However, for simplicity, we bypassed this situation by introducing an additional step: a tie-breaker \"game.\" This tie-breaker is implemented as a simple boolean function, which operates with a 50/50 chance. It returns either \"True\" or \"False,\" based on the value of a randomly selected number between 1 and 100."
   ]
  },
  {
   "cell_type": "code",
   "execution_count": 5,
   "id": "f2350413",
   "metadata": {},
   "outputs": [],
   "source": [
    "import random\n",
    "def tie_break():\n",
    "    roll = random.randint(1,100)\n",
    "    if roll <= 50:\n",
    "        return False\n",
    "    elif roll >= 51:\n",
    "        return True"
   ]
  },
  {
   "cell_type": "markdown",
   "id": "d6356219",
   "metadata": {},
   "source": [
    "#### 3. Poisson Regression"
   ]
  },
  {
   "attachments": {},
   "cell_type": "markdown",
   "id": "17540a49",
   "metadata": {},
   "source": [
    "The function `PredictScore` is used to return the name of the winning team when two team names are provided as input arguments. The number of goals scored and conceded is extracted from the data for each team, or argument. A random Poisson regression is then run, with 10,000 iterations (to eliminate randomness from the results), to obtain a predicted value for the number of goals scored by each team.\n",
    "\n",
    "From there, a probability table is built to show the likelihood of scoring 0 to 4 goals for each team, along with the probabilities for each scenario (e.g., team A scores 0 goals and team B scores 0 goals; team A scores 1 goal and team B scores 0 goals; team A scores 2 goals and team B scores 0 goals; ... ; team A scores 4 goals and team B scores 4 goals). The probabilities for team A winning, team B winning, and both teams tying are then summed, and the name of the predicted winning team is output.\n",
    "\n",
    "To illustrate the strategy, consider the example of USA vs. Mexico:\n",
    "\n",
    "- USA Goals = (USA SPI Goals + Mexico SPI Conceded Goals) / 2\n",
    "- Mexico Goals = (Mexico SPI Goals + USA SPI Conceded Goals) / 2\n",
    "\n",
    "> A Poisson regression is run (for both USA and Mexico Goals).\n",
    "\n",
    "> The likelihoods from the Poisson model are summed to obtain the total odds of each team winning or a tie."
   ]
  },
  {
   "cell_type": "code",
   "execution_count": 6,
   "id": "05cf3ded",
   "metadata": {},
   "outputs": [],
   "source": [
    "import numpy as np\n",
    "import collections\n",
    "from scipy import stats\n",
    "N = 10000\n",
    "\n",
    "def PredictScore(home_team,away_team,elimination):\n",
    "\n",
    "    avg_home_score = fifa.loc[fifa.name == home_team,'off'].values[0]\n",
    "    avg_away_score = fifa.loc[fifa.name == away_team,'off'].values[0]\n",
    "\n",
    "    avg_home_goal_conceded = fifa.loc[fifa.name == home_team,'def'].values[0]\n",
    "    avg_away_goal_conceded = fifa.loc[fifa.name == away_team,'def'].values[0]\n",
    "\n",
    "    away_goal = np.random.poisson(1/2*(avg_away_score+avg_home_goal_conceded),N)\n",
    "    home_goal = np.random.poisson(1/2*(avg_home_score+avg_away_goal_conceded),N)\n",
    "\n",
    "    home_counter = collections.Counter(home_goal)\n",
    "    away_counter = collections.Counter(away_goal)\n",
    "\n",
    "    n = 5\n",
    "    m = 5\n",
    "    a = np.zeros((n, m))\n",
    "    for i in range(n):\n",
    "        for j in range(m):\n",
    "            a[i,j] = (away_counter[i] + home_counter[j])/(10*N)\n",
    "\n",
    "    tie_odds = a[0,0] + a[1,1] + a[2,2] + a[3,3] + a[4,4]\n",
    "    home_odds = np.sum(a[0,1:]) + np.sum(a[1,2:]) + np.sum(a[2,3:]) + np.sum(a[3,4:])\n",
    "    away_odds = np.sum(a[1:,0]) + np.sum(a[2:,1]) + np.sum(a[3:,2]) + np.sum(a[4:,3])\n",
    "\n",
    "    #tie_odds += 0.05 * np.random.normal(0,1, size=1)\n",
    "    #home_odds += 0.05 * np.random.normal(0,1, size=1)\n",
    "    #away_odds += 0.05 * np.random.normal(0,1, size=1)\n",
    "\n",
    "    if home_odds> away_odds:\n",
    "        return home_team\n",
    "\n",
    "    elif tie_odds > home_odds and tie_odds > away_odds and elimination == False:\n",
    "        return home_team, away_team\n",
    "\n",
    "    elif tie_odds > home_odds and tie_odds > away_odds and elimination == True:\n",
    "        if tie_break() == False:\n",
    "            return home_team\n",
    "        else:\n",
    "            return away_team\n",
    "\n",
    "    else:\n",
    "        return away_team\n"
   ]
  },
  {
   "cell_type": "markdown",
   "id": "98710a3a",
   "metadata": {},
   "source": [
    "Once a function to predict a winner between two teams was established, the overall structure of the competition was defined for the subsequent stages (the round of 16, quarter-finals, semi-finals, and final).\n",
    "\n",
    "Starting from the initial groups, the previously defined `GroupStage` function was run with the `PredictScore` function and its elimination condition set to \"False\" (ensuring that teams opposed each other regardless of previous game outcomes, until all configurations were exhausted). This process yielded the names of the two teams advancing to the round of 16 from each group.\n",
    "\n",
    "Subsequently, the `PredictScore` function was executed again, this time with the elimination condition set to \"True.\" Only the winning teams at this stage proceeded to the round of 8. This strategy was then applied to the round of 8 and the round of 4, respectively, using the winners from each preceding round. The final iteration produced the winner of the final game, which was the output of the `sum_cup` function."
   ]
  },
  {
   "cell_type": "code",
   "execution_count": 8,
   "id": "c1959ac7",
   "metadata": {},
   "outputs": [],
   "source": [
    "#Group Play\n",
    "def sim_cup():\n",
    "    #group play\n",
    "    group_to_advance = [group_a, group_b, group_c, group_d, group_e, group_f, group_g, group_h]\n",
    "    teams_to_advance_16 = []\n",
    "    for group in group_to_advance:\n",
    "        teams_to_advance_16.append(group_stage(group))\n",
    "\n",
    "\n",
    "    # Round of 16\n",
    "    one_16 = PredictScore(teams_to_advance_16[0][0], teams_to_advance_16[1][1], elimination = True)\n",
    "    two_16 = PredictScore(teams_to_advance_16[2][0], teams_to_advance_16[3][1], elimination = True)\n",
    "\n",
    "    three_16 = PredictScore(teams_to_advance_16[4][0], teams_to_advance_16[5][1], elimination = True)\n",
    "    four_16 = PredictScore(teams_to_advance_16[6][0], teams_to_advance_16[7][1], elimination = True)\n",
    "\n",
    "    five_16 = PredictScore(teams_to_advance_16[1][0], teams_to_advance_16[0][1], elimination = True)\n",
    "    six_16 = PredictScore(teams_to_advance_16[3][0], teams_to_advance_16[2][1], elimination = True)\n",
    "\n",
    "    seven_16 = PredictScore(teams_to_advance_16[5][0], teams_to_advance_16[4][1], elimination = True)\n",
    "    eight_16 = PredictScore(teams_to_advance_16[7][0], teams_to_advance_16[6][1], elimination = True)\n",
    "\n",
    "    # Round of 8\n",
    "    one_8 = PredictScore(one_16, two_16, elimination = True)\n",
    "    two_8 = PredictScore(three_16, four_16, elimination = True)\n",
    "\n",
    "    three_8 = PredictScore(five_16, six_16, elimination = True)\n",
    "    four_8 = PredictScore(seven_16, eight_16, elimination = True)\n",
    "\n",
    "    # Round of 4\n",
    "    one_4 = PredictScore(one_8, two_8, elimination = True)\n",
    "    two_4 = PredictScore(three_8, four_8, elimination = True)\n",
    "\n",
    "    #final\n",
    "    final = PredictScore(one_4, two_4, elimination = True)\n",
    "    return final\n"
   ]
  },
  {
   "cell_type": "markdown",
   "id": "67ea47f3",
   "metadata": {},
   "source": [
    "#### 4. Winner Winner, Chicken Dinner"
   ]
  },
  {
   "cell_type": "markdown",
   "id": "df236ea4",
   "metadata": {},
   "source": [
    "In this final step, a dictionary was created associating a value of 0 with each team on the list of participating countries. The `sim_cup` function was then run 100 times, effectively simulating the competition 100 times and aggregating the number of times each team was predicted as the winner. The result represents the percentage probability of each team winning the competition, which can then be visualized in the graph provided below."
   ]
  },
  {
   "cell_type": "code",
   "execution_count": 9,
   "id": "40a9eab6",
   "metadata": {},
   "outputs": [],
   "source": [
    "#MC\n",
    "final_wins = {}\n",
    "for i in flat_list:\n",
    "    final_wins[i] = 0\n",
    "\n",
    "for i in range(100):\n",
    "    winner = sim_cup()\n",
    "    final_wins[winner] += 1"
   ]
  },
  {
   "cell_type": "code",
   "execution_count": 14,
   "id": "05035669",
   "metadata": {},
   "outputs": [
    {
     "data": {
      "image/png": "[encoded data removed]",
      "text/plain": [
       "<Figure size 640x480 with 1 Axes>"
      ]
     },
     "metadata": {},
     "output_type": "display_data"
    }
   ],
   "source": [
    "import matplotlib.pyplot as plt\n",
    "names = final_wins.keys()\n",
    "values = final_wins.values()\n",
    "plt.bar(names, values)\n",
    "plt.xticks(rotation =270)\n",
    "plt.show()"
   ]
  },
  {
   "cell_type": "markdown",
   "id": "2157d3e9",
   "metadata": {},
   "source": [
    "From this run, the predicted 2022 FIFA World Cup winner was Brazil. "
   ]
  }
 ],
 "metadata": {
  "kernelspec": {
   "display_name": "Python 3",
   "language": "python",
   "name": "python3"
  },
  "language_info": {
   "codemirror_mode": {
    "name": "ipython",
    "version": 3
   },
   "file_extension": ".py",
   "mimetype": "text/x-python",
   "name": "python",
   "nbconvert_exporter": "python",
   "pygments_lexer": "ipython3",
   "version": "3.12.4"
  }
 },
 "nbformat": 4,
 "nbformat_minor": 5
}
